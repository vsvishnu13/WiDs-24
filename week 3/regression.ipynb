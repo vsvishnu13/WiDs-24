{
  "nbformat": 4,
  "nbformat_minor": 0,
  "metadata": {
    "colab": {
      "provenance": []
    },
    "kernelspec": {
      "name": "python3",
      "display_name": "Python 3"
    },
    "language_info": {
      "name": "python"
    }
  },
  "cells": [
    {
      "cell_type": "markdown",
      "source": [
        "# Linear Regression\n",
        "\n",
        "Linear regression analysis is used to predict the value of a variable based on the value of another variable. The variable you want to predict is called the dependent variable. The variable you are using to predict the other variable's value is called the independent variable\n",
        "\n",
        "This week, your task involves conducting multi-class linear regression on batsmen salaries. You'll use the average runs scored per game and the strike rate as independent variables. The goal is to predict the salary as the dependent variable. Additionally, you'll be categorizing the data based on the years.\n",
        "\n",
        "The dataset is Data_Mendeley.csv given on GitHub. Feel free to create any new functions required."
      ],
      "metadata": {
        "id": "4OSeJ-R-y9s7"
      }
    },
    {
      "cell_type": "code",
      "source": [
        "#import important libraries\n",
        "import numpy as np\n",
        "from sklearn import datasets\n",
        "import matplotlib.pyplot as plt\n",
        "import pandas as pd"
      ],
      "metadata": {
        "id": "AZ77VEImzRW5"
      },
      "execution_count": 3,
      "outputs": []
    },
    {
      "cell_type": "markdown",
      "source": [
        "preparing data"
      ],
      "metadata": {
        "id": "2oQPpSttzqt6"
      }
    },
    {
      "cell_type": "code",
      "source": [
        "#mounting gdrive\n",
        "from google.colab import drive\n",
        "drive.mount('/content/drive')\n",
        "file_path = '/content/drive/My Drive/wids/Data_Mendeley.csv'\n",
        "data=pd.read_csv(file_path)"
      ],
      "metadata": {
        "id": "NgyvUuEMAVEr",
        "outputId": "f2c1552f-42ab-4f85-c978-7cc3fa8f16bc",
        "colab": {
          "base_uri": "https://localhost:8080/"
        }
      },
      "execution_count": 4,
      "outputs": [
        {
          "output_type": "stream",
          "name": "stdout",
          "text": [
            "Drive already mounted at /content/drive; to attempt to forcibly remount, call drive.mount(\"/content/drive\", force_remount=True).\n"
          ]
        }
      ]
    },
    {
      "cell_type": "markdown",
      "source": [
        "Implement Linear regression here :)"
      ],
      "metadata": {
        "id": "0JoKzzr_1uvt"
      }
    },
    {
      "cell_type": "code",
      "source": [
        "data = np.genfromtxt(file_path, delimiter=',', dtype=None, names=True, encoding='utf-8')\n",
        "years = data['Year']\n",
        "average_runs = data['Ave']\n",
        "strike_rate = data['StrRate']\n",
        "salary = data['Final_Price']\n",
        "average_runs = np.nan_to_num(average_runs, nan=np.nanmean(average_runs))\n",
        "strike_rate = np.nan_to_num(strike_rate, nan=np.nanmean(strike_rate))\n",
        "salary = np.nan_to_num(salary, nan=np.nanmean(salary))\n",
        "# Function to compute regression coefficients using the normal equation\n",
        "def compute_coefficients(X, y):\n",
        "    X_with_intercept = np.hstack((np.ones((X.shape[0], 1)), X))  # Add intercept\n",
        "    beta = np.linalg.inv(X_with_intercept.T @ X_with_intercept) @ X_with_intercept.T @ y\n",
        "    return beta\n",
        "\n",
        "# Train and evaluate models for each year\n",
        "unique_years = np.unique(years)\n",
        "models = {}\n",
        "performance = []\n",
        "\n",
        "for year in unique_years:\n",
        "    # Filter data for the current year\n",
        "    mask = years == year\n",
        "    X_year = np.column_stack((average_runs[mask], strike_rate[mask]))\n",
        "    y_year = salary[mask]\n",
        "\n",
        "    # Compute regression coefficients\n",
        "    beta = compute_coefficients(X_year, y_year)\n",
        "    models[year] = beta\n",
        "\n",
        "    # Predict salaries\n",
        "    X_with_intercept = np.hstack((np.ones((X_year.shape[0], 1)), X_year))\n",
        "    y_pred = X_with_intercept @ beta\n",
        "\n",
        "    # Compute metrics\n",
        "    mse = np.mean((y_year - y_pred) ** 2)\n",
        "    ss_total = np.sum((y_year - np.mean(y_year)) ** 2)\n",
        "    ss_residual = np.sum((y_year - y_pred) ** 2)\n",
        "    r2 = 1 - (ss_residual / ss_total)\n",
        "\n",
        "    # Store performance metrics\n",
        "    performance.append({'Year': year, 'MSE': mse, 'R2': r2})\n",
        "\n",
        "# Display performance metrics\n",
        "for result in performance:\n",
        "    print(f\"Year {result['Year']}: MSE = {result['MSE']:.2f}, R² = {result['R2']:.2f}\")\n"
      ],
      "metadata": {
        "id": "k2W3q6eR1d2J",
        "outputId": "35492b83-efc1-40d7-8712-3f638c12b085",
        "colab": {
          "base_uri": "https://localhost:8080/"
        }
      },
      "execution_count": 6,
      "outputs": [
        {
          "output_type": "stream",
          "name": "stdout",
          "text": [
            "Year 2008: MSE = 194441927429757.91, R² = 0.09\n",
            "Year 2009: MSE = 277463934027205.34, R² = 0.07\n",
            "Year 2010: MSE = 207618680931127.41, R² = 0.20\n",
            "Year 2011: MSE = 633059295757836.00, R² = 0.17\n",
            "Year 2012: MSE = 734227247538172.50, R² = 0.08\n",
            "Year 2013: MSE = 621778479541908.50, R² = 0.18\n",
            "Year 2014: MSE = 919218445895563.38, R² = 0.25\n",
            "Year 2015: MSE = 966581971290133.25, R² = 0.16\n",
            "Year 2016: MSE = 721748414378591.88, R² = 0.22\n",
            "Year 2017: MSE = 948609867206115.38, R² = 0.13\n"
          ]
        }
      ]
    },
    {
      "cell_type": "markdown",
      "source": [
        "# Logistic Regression\n",
        "\n",
        "Logistic regression is a process of modeling the probability of a discrete outcome given an input variable. The most common logistic regression models a binary outcome; something that can take two values such as true/false, yes/no, and so on.\n",
        "\n",
        "In this week you will be doing logistic regression on breast cancer dataset using sklearn library. Feel free to create any new functions required."
      ],
      "metadata": {
        "id": "aTAky_OS1w0P"
      }
    },
    {
      "cell_type": "code",
      "source": [
        "#importinf libraries\n",
        "from sklearn.preprocessing import StandardScaler\n",
        "from sklearn.model_selection import train_test_split"
      ],
      "metadata": {
        "id": "E56ck0_P2NR9"
      },
      "execution_count": null,
      "outputs": []
    },
    {
      "cell_type": "markdown",
      "source": [
        "Prepare Data"
      ],
      "metadata": {
        "id": "qojSAol72cmH"
      }
    },
    {
      "cell_type": "code",
      "source": [
        "breast_cancer = datasets.load_breast_cancer()\n",
        "X, y = breast_cancer.data, breast_cancer.target"
      ],
      "metadata": {
        "id": "_uUSV8Xk2ePh"
      },
      "execution_count": null,
      "outputs": []
    },
    {
      "cell_type": "code",
      "source": [
        "#spliting data for training and testing\n",
        "X_train, X_test, y_train, y_test = train_test_split(X, y, test_size=0.2, random_state=1234)\n",
        "sc = StandardScaler()\n",
        "X_train = sc.fit_transform(X_train)\n",
        "X_test = sc.transform(X_test)"
      ],
      "metadata": {
        "id": "N6jcbk5g29XW"
      },
      "execution_count": null,
      "outputs": []
    },
    {
      "cell_type": "markdown",
      "source": [
        "Implement Logistic Regression here :)"
      ],
      "metadata": {
        "id": "OIuuOJcJ3sti"
      }
    },
    {
      "cell_type": "code",
      "source": [],
      "metadata": {
        "id": "gBJ6H_ss3yUr"
      },
      "execution_count": null,
      "outputs": []
    }
  ]
}